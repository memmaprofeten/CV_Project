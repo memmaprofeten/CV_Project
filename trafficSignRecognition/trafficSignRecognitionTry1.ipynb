{
 "cells": [
  {
   "cell_type": "code",
   "execution_count": 1,
   "metadata": {},
   "outputs": [
    {
     "name": "stderr",
     "output_type": "stream",
     "text": [
      "Using TensorFlow backend.\n"
     ]
    }
   ],
   "source": [
    "# Handling imports\n",
    "\n",
    "import numpy as np\n",
    "np.random.seed(1337) # for reproducibility\n",
    "\n",
    "from keras.models import Sequential\n",
    "from keras.layers import Dense, Dropout, Activation, Flatten \n",
    "from keras.layers import MaxPooling2D, Conv2D\n",
    "from keras.utils import np_utils\n",
    "from keras import backend as K\n",
    "\n",
    "import os\n",
    "import glob\n",
    "from skimage import io, transform, color, exposure\n",
    "\n",
    "import pandas as pd\n",
    "\n",
    "# Setting parameters for the network\n",
    "batch_size = 128\n",
    "nb_classes = 43\n",
    "nb_epoch = 12\n",
    "\n",
    "# input image dimensions\n",
    "img_rows, img_cols = 32, 32\n",
    "\n",
    "# number of convolutional filters to use \n",
    "conv_depth_1 = 32\n",
    "conv_depth_2 = 64\n",
    "conv_depth_3 = 128\n",
    "hidden_size = 512\n",
    "# size of pooling area for max pooling \n",
    "pool_size = (2, 2)\n",
    "# convolution kernel size\n",
    "kernel_size = (3, 3)"
   ]
  },
  {
   "cell_type": "code",
   "execution_count": 2,
   "metadata": {
    "collapsed": true
   },
   "outputs": [],
   "source": [
    "# Making the images more uniform\n",
    "\n",
    "def process_img(img):\n",
    "    img = transform.resize(img, (img_rows, img_cols), mode='constant')\n",
    "    hsv = color.rgb2hsv(img)\n",
    "    hsv[:,:,2] = exposure.equalize_hist(hsv[:,:,2])\n",
    "    img = color.hsv2rgb(hsv)\n",
    "    return img"
   ]
  },
  {
   "cell_type": "code",
   "execution_count": 3,
   "metadata": {
    "collapsed": true,
    "scrolled": true
   },
   "outputs": [],
   "source": [
    "# Load training images and labels\n",
    "\n",
    "def get_class(img_path):\n",
    "    return int(img_path.split('/')[-2])\n",
    "\n",
    "# Path to training data\n",
    "train_dir = 'GTSRB-2/Final_Training/Images/'\n",
    "train_images_paths = glob.glob(train_dir + '*/*.ppm', recursive=True)\n",
    "np.random.shuffle(train_images_paths)\n",
    "train_images = []\n",
    "train_labels = []\n",
    "\n",
    "for filename in train_images_paths:\n",
    "    try:\n",
    "        #img = preprocess_img(io.imread(filename))\n",
    "        img = process_img(io.imread(filename))\n",
    "        train_images.append(img)\n",
    "        label = get_class(filename)\n",
    "        train_labels.append(label)\n",
    "    except (IOError, OSError):\n",
    "        print('missed', filename)\n",
    "        pass\n",
    "    \n",
    "X_train = np.array(train_images, dtype='float32')\n",
    "# Make one hot targets\n",
    "Y_train = np.eye(nb_classes, dtype='uint8')[train_labels] "
   ]
  },
  {
   "cell_type": "code",
   "execution_count": 4,
   "metadata": {
    "collapsed": true
   },
   "outputs": [],
   "source": [
    "# Load test images and labels\n",
    "\n",
    "# Path to testing data\n",
    "test_dir = 'GTSRB/Final_Test/Images/'\n",
    "test_images_paths = glob.glob(test_dir + '*.ppm', recursive=True)\n",
    "np.random.shuffle(test_images_paths)\n",
    "test_images = []\n",
    "test_csv = pd.read_csv('GT-final_test.csv',sep=';')\n",
    "test_labels = list(test_csv['ClassId'])\n",
    "\n",
    "for filename in test_images_paths:\n",
    "    try:\n",
    "        #img = preprocess_img(io.imread(filename))\n",
    "        img = process_img(io.imread(filename))\n",
    "        test_images.append(img)\n",
    "    except (IOError, OSError):\n",
    "        print('missed', filename)\n",
    "        pass\n",
    "    \n",
    "X_test = np.array(test_images, dtype='float32')\n",
    "# Make one hot targets\n",
    "Y_test = np.eye(nb_classes, dtype='uint8')[test_labels] "
   ]
  },
  {
   "cell_type": "code",
   "execution_count": 5,
   "metadata": {},
   "outputs": [
    {
     "name": "stdout",
     "output_type": "stream",
     "text": [
      "X_train shape: (39209, 32, 32, 3)\n",
      "39209 train samples\n",
      "39209 train labels\n",
      "12630 test samples\n",
      "12630 test labels\n"
     ]
    }
   ],
   "source": [
    "# Processing images for theano or tensorflow backend\n",
    "if K.image_dim_ordering() == 'th':\n",
    "    X_train = X_train.reshape(X_train.shape[0], 3, img_rows, img_cols) \n",
    "    X_test = X_test.reshape(X_test.shape[0], 3, img_rows, img_cols) \n",
    "    input_shape = (3, img_rows, img_cols)\n",
    "else:\n",
    "    X_train = X_train.reshape(X_train.shape[0], img_rows, img_cols, 3) \n",
    "    X_test = X_test.reshape(X_test.shape[0], img_rows, img_cols, 3) \n",
    "    input_shape = (img_rows, img_cols, 3)\n",
    "    \n",
    "# Converting the input from bytes to floats\n",
    "X_train = X_train.astype('float32') \n",
    "X_test = X_test.astype('float32') \n",
    "\n",
    "# Normalising the input\n",
    "X_train /= np.max(X_train)\n",
    "X_test /= np.max(X_test)\n",
    "\n",
    "print('X_train shape:', X_train.shape) \n",
    "print(X_train.shape[0], 'train samples')\n",
    "print(len(Y_train), 'train labels')\n",
    "print(X_test.shape[0], 'test samples')\n",
    "print(len(Y_test), 'test labels')\n",
    "\n",
    "# convert class vectors to binary class matrices\n",
    "#Y_train = np_utils.to_categorical(y_train, nb_classes) #breaks stuff\n",
    "#Y_test = np_utils.to_categorical(y_test, nb_classes) #breaks stuff"
   ]
  },
  {
   "cell_type": "code",
   "execution_count": 6,
   "metadata": {
    "collapsed": true
   },
   "outputs": [],
   "source": [
    "# Defining the network\n",
    "\n",
    "model = Sequential()\n",
    "\n",
    "model.add(Conv2D(conv_depth_1, (kernel_size[0], kernel_size[1]),\n",
    "                 padding='same', input_shape=input_shape))\n",
    "model.add(Activation('relu'))\n",
    "model.add(Conv2D(conv_depth_1, (kernel_size[0], kernel_size[1])))\n",
    "model.add(Activation('relu'))\n",
    "model.add(MaxPooling2D(pool_size=pool_size))\n",
    "model.add(Dropout(0.25))\n",
    "\n",
    "model.add(Conv2D(conv_depth_2, (kernel_size[0], kernel_size[1]), padding='same'))\n",
    "model.add(Activation('relu'))\n",
    "model.add(Conv2D(conv_depth_2, (kernel_size[0], kernel_size[1]), activation='relu'))\n",
    "model.add(MaxPooling2D(pool_size=pool_size))\n",
    "model.add(Dropout(0.25))\n",
    "\n",
    "model.add(Conv2D(conv_depth_3, (kernel_size[0], kernel_size[1]), padding='same'))\n",
    "model.add(Activation('relu'))\n",
    "model.add(Conv2D(conv_depth_3, (kernel_size[0], kernel_size[1]), activation='relu'))\n",
    "model.add(MaxPooling2D(pool_size=pool_size))\n",
    "model.add(Dropout(0.25))\n",
    "\n",
    "model.add(Flatten())\n",
    "model.add(Dense(hidden_size))\n",
    "model.add(Activation('relu'))\n",
    "model.add(Dropout(0.5))\n",
    "model.add(Dense(nb_classes))\n",
    "model.add(Activation('softmax'))"
   ]
  },
  {
   "cell_type": "code",
   "execution_count": 7,
   "metadata": {
    "collapsed": true
   },
   "outputs": [],
   "source": [
    "model.compile(loss='categorical_crossentropy', optimizer='adadelta',\n",
    "              metrics=['accuracy'])"
   ]
  },
  {
   "cell_type": "code",
   "execution_count": 8,
   "metadata": {},
   "outputs": [
    {
     "name": "stdout",
     "output_type": "stream",
     "text": [
      "Train on 39209 samples, validate on 12630 samples\n",
      "Epoch 1/12\n",
      "39209/39209 [==============================] - 331s - loss: 2.8948 - acc: 0.2058 - val_loss: 6.9296 - val_acc: 0.0432\n",
      "Epoch 2/12\n",
      "39209/39209 [==============================] - 339s - loss: 0.8850 - acc: 0.7183 - val_loss: 11.1904 - val_acc: 0.0394\n",
      "Epoch 3/12\n",
      "39209/39209 [==============================] - 314s - loss: 0.3619 - acc: 0.8856 - val_loss: 12.9138 - val_acc: 0.0390\n",
      "Epoch 4/12\n",
      "39209/39209 [==============================] - 279s - loss: 0.2312 - acc: 0.9249 - val_loss: 13.3397 - val_acc: 0.0390\n",
      "Epoch 5/12\n",
      "39209/39209 [==============================] - 279s - loss: 0.1749 - acc: 0.9434 - val_loss: 13.8316 - val_acc: 0.0390\n",
      "Epoch 6/12\n",
      "39209/39209 [==============================] - 276s - loss: 0.1398 - acc: 0.9547 - val_loss: 13.9373 - val_acc: 0.0388\n",
      "Epoch 7/12\n",
      "39209/39209 [==============================] - 278s - loss: 0.1085 - acc: 0.9660 - val_loss: 14.2262 - val_acc: 0.0394\n",
      "Epoch 8/12\n",
      "39209/39209 [==============================] - 278s - loss: 0.0924 - acc: 0.9699 - val_loss: 14.6292 - val_acc: 0.0391\n",
      "Epoch 9/12\n",
      "39209/39209 [==============================] - 276s - loss: 0.0813 - acc: 0.9744 - val_loss: 14.5186 - val_acc: 0.0390\n",
      "Epoch 10/12\n",
      "39209/39209 [==============================] - 278s - loss: 0.0706 - acc: 0.9772 - val_loss: 14.6789 - val_acc: 0.0389\n",
      "Epoch 11/12\n",
      "39209/39209 [==============================] - 276s - loss: 0.0611 - acc: 0.9804 - val_loss: 14.7923 - val_acc: 0.0386\n",
      "Epoch 12/12\n",
      "39209/39209 [==============================] - 276s - loss: 0.0583 - acc: 0.9818 - val_loss: 14.2610 - val_acc: 0.0396\n"
     ]
    },
    {
     "data": {
      "text/plain": [
       "<keras.callbacks.History at 0x16ac67dd8>"
      ]
     },
     "execution_count": 8,
     "metadata": {},
     "output_type": "execute_result"
    }
   ],
   "source": [
    "model.fit(X_train, Y_train, batch_size=batch_size, epochs=nb_epoch, \n",
    "          verbose=1, validation_data=(X_test, Y_test))"
   ]
  },
  {
   "cell_type": "code",
   "execution_count": 9,
   "metadata": {},
   "outputs": [
    {
     "name": "stdout",
     "output_type": "stream",
     "text": [
      "Test score: 14.2609489864\n",
      "Test accuracy: 0.0395882818686\n"
     ]
    }
   ],
   "source": [
    "score = model.evaluate(X_test, Y_test, verbose=0) \n",
    "print('Test score:', score[0])\n",
    "print('Test accuracy:', score[1])"
   ]
  },
  {
   "cell_type": "code",
   "execution_count": null,
   "metadata": {
    "collapsed": true
   },
   "outputs": [],
   "source": []
  }
 ],
 "metadata": {
  "kernelspec": {
   "display_name": "Python 3",
   "language": "python",
   "name": "python3"
  },
  "language_info": {
   "codemirror_mode": {
    "name": "ipython",
    "version": 3
   },
   "file_extension": ".py",
   "mimetype": "text/x-python",
   "name": "python",
   "nbconvert_exporter": "python",
   "pygments_lexer": "ipython3",
   "version": "3.5.2"
  }
 },
 "nbformat": 4,
 "nbformat_minor": 2
}
