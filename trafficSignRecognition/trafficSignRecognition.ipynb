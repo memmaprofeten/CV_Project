{
 "cells": [
  {
   "cell_type": "code",
   "execution_count": 2,
   "metadata": {},
   "outputs": [
    {
     "name": "stderr",
     "output_type": "stream",
     "text": [
      "Using TensorFlow backend.\n"
     ]
    }
   ],
   "source": [
    "# Handling imports\n",
    "\n",
    "import numpy as np\n",
    "np.random.seed(1337) # for reproducibility\n",
    "\n",
    "from keras.models import Sequential\n",
    "from keras.layers import Dense, Dropout, Activation, Flatten \n",
    "from keras.layers import MaxPooling2D, Conv2D\n",
    "from keras.layers.advanced_activations import PReLU\n",
    "from keras.utils import np_utils\n",
    "from keras import backend as K\n",
    "from keras.optimizers import SGD\n",
    "from keras.preprocessing.image import ImageDataGenerator\n",
    "from keras.callbacks import ModelCheckpoint, ReduceLROnPlateau\n",
    "\n",
    "import os\n",
    "os.environ[\"KERAS_BACKEND\"] = \"tensorflow\"\n",
    "import glob\n",
    "from skimage import io, transform, color, exposure\n",
    "import matplotlib.pyplot as plt\n",
    "%matplotlib inline\n",
    "\n",
    "import pandas as pd"
   ]
  },
  {
   "cell_type": "code",
   "execution_count": 3,
   "metadata": {
    "collapsed": true
   },
   "outputs": [],
   "source": [
    "# Setting parameters for the network\n",
    "batch_size = 32\n",
    "nb_epoch = 50\n",
    "nb_classes = 43\n",
    "\n",
    "# input image dimensions\n",
    "img_rows, img_cols = 32, 32\n",
    "\n",
    "# number of convolutional filters to use \n",
    "conv_depth_1 = 32\n",
    "conv_depth_2 = 64\n",
    "conv_depth_3 = 128\n",
    "hidden_size = 1024\n",
    "# size of pooling area for max pooling \n",
    "pool_size = (2, 2)\n",
    "# convolution kernel size\n",
    "kernel_size = (3, 3)\n",
    "# percentage of deletion in dropout layers\n",
    "dropout_conv = 0.25\n",
    "dropout_hidden = 0.5"
   ]
  },
  {
   "cell_type": "code",
   "execution_count": 4,
   "metadata": {
    "collapsed": true
   },
   "outputs": [],
   "source": [
    "# Making the images more uniform\n",
    "\n",
    "# equalize histogram of each color channel\n",
    "def equalize_hist(img):\n",
    "    for k in range(3):\n",
    "        img[:,:,k] = exposure.equalize_hist(img[:,:,k])\n",
    "    return img\n",
    "\n",
    "# stretch contrast of each color channel\n",
    "def contrast_stretch(img):\n",
    "    p2, p98 = np.percentile(img, (2, 98))\n",
    "    for k in range(3):\n",
    "        img[:,:,k] = exposure.rescale_intensity(img[:,:,k], in_range=(p2, p98))\n",
    "    return img\n",
    "\n",
    "def process_img(img):\n",
    "    img = transform.resize(img, (img_rows, img_cols), mode='constant')\n",
    "    img = contrast_stretch(img)\n",
    "    return img"
   ]
  },
  {
   "cell_type": "code",
   "execution_count": null,
   "metadata": {},
   "outputs": [],
   "source": [
    "img = io.imread('GTSRB\\\\Final_Training\\\\Images\\\\00003\\\\00000_00000.ppm')\n",
    "img = transform.resize(img, (img_rows, img_cols), mode='constant')\n",
    "#img = equalize_hist(img)\n",
    "img = contrast_stretch(img)\n",
    "\n",
    "plt.imshow(img)"
   ]
  },
  {
   "cell_type": "code",
   "execution_count": 5,
   "metadata": {
    "scrolled": false
   },
   "outputs": [],
   "source": [
    "# Load training images and labels\n",
    "\n",
    "#def get_class(img_path):\n",
    "#    return int(img_path.split('/')[-2])\n",
    "def get_class(img_path):\n",
    "    return int(img_path.split('\\\\')[-2])\n",
    "\n",
    "# Path to training data\n",
    "#train_dir = 'GTSRB/Final_Training/Images/'\n",
    "#train_images_paths = glob.glob(train_dir + '*/*.ppm', recursive=True)\n",
    "train_dir = 'GTSRB\\\\Final_Training\\\\Images\\\\'\n",
    "train_images_paths = glob.glob(train_dir + '*\\\\*.ppm', recursive=True)\n",
    "\n",
    "np.random.shuffle(train_images_paths)\n",
    "train_images = []\n",
    "train_labels = []\n",
    "\n",
    "for filename in train_images_paths:\n",
    "    try:\n",
    "        img = process_img(io.imread(filename))\n",
    "        train_images.append(img)\n",
    "        label = get_class(filename)\n",
    "        train_labels.append(label)\n",
    "    except (IOError, OSError):\n",
    "        print('missed', filename)\n",
    "        pass\n",
    "    \n",
    "X_train = np.array(train_images, dtype='float32')\n",
    "Y_train = np.eye(nb_classes, dtype='uint8')[train_labels] "
   ]
  },
  {
   "cell_type": "code",
   "execution_count": 6,
   "metadata": {},
   "outputs": [
    {
     "name": "stdout",
     "output_type": "stream",
     "text": [
      "class:  5\n"
     ]
    },
    {
     "data": {
      "image/png": "[encoded data removed]",
      "text/plain": [
       "<matplotlib.figure.Figure at 0x1adc2228cf8>"
      ]
     },
     "metadata": {},
     "output_type": "display_data"
    }
   ],
   "source": [
    "i = 0\n",
    "\n",
    "plt.imshow(X_train[i])\n",
    "print('class: ', np.where(Y_train[i]==1)[0][0])"
   ]
  },
  {
   "cell_type": "code",
   "execution_count": 7,
   "metadata": {
    "collapsed": true
   },
   "outputs": [],
   "source": [
    "# Load test images and labels\n",
    "\n",
    "# Path to testing data\n",
    "#test_dir = 'GTSRB/Final_Test/Images/'\n",
    "#test_images_paths = glob.glob(test_dir + '*.ppm', recursive=True)\n",
    "test_dir = 'GTSRB\\\\Final_Test\\\\Images\\\\'\n",
    "test_images_paths = glob.glob(test_dir + '*.ppm', recursive=True)\n",
    "\n",
    "test_images = []\n",
    "test_csv = pd.read_csv('GT-final_test.csv',sep=';')\n",
    "test_labels = list(test_csv['ClassId'])\n",
    "\n",
    "for filename in test_images_paths:\n",
    "    try:\n",
    "        img = process_img(io.imread(filename))\n",
    "        test_images.append(img)\n",
    "    except (IOError, OSError):\n",
    "        print('missed', filename)\n",
    "        pass\n",
    "    \n",
    "X_test = np.array(test_images, dtype='float32')\n",
    "Y_test = np.eye(nb_classes, dtype='uint8')[test_labels] "
   ]
  },
  {
   "cell_type": "code",
   "execution_count": 8,
   "metadata": {},
   "outputs": [
    {
     "name": "stdout",
     "output_type": "stream",
     "text": [
      "class:  16\n"
     ]
    },
    {
     "data": {
      "image/png": "[encoded data removed]",
      "text/plain": [
       "<matplotlib.figure.Figure at 0x1adc22289b0>"
      ]
     },
     "metadata": {},
     "output_type": "display_data"
    }
   ],
   "source": [
    "i = 0\n",
    "plt.imshow(X_test[i])\n",
    "print('class: ', np.where(Y_test[i]==1)[0][0])"
   ]
  },
  {
   "cell_type": "code",
   "execution_count": 9,
   "metadata": {},
   "outputs": [
    {
     "name": "stdout",
     "output_type": "stream",
     "text": [
      "X_train shape: (39209, 32, 32, 3)\n",
      "39209 train samples\n",
      "39209 train labels\n",
      "12630 test samples\n",
      "12630 test labels\n"
     ]
    }
   ],
   "source": [
    "# Processing images for theano or tensorflow backend\n",
    "if K.image_dim_ordering() == 'th':\n",
    "    X_train = X_train.reshape(X_train.shape[0], 3, img_rows, img_cols) \n",
    "    X_test = X_test.reshape(X_test.shape[0], 3, img_rows, img_cols) \n",
    "    input_shape = (3, img_rows, img_cols)\n",
    "else:\n",
    "    X_train = X_train.reshape(X_train.shape[0], img_rows, img_cols, 3) \n",
    "    X_test = X_test.reshape(X_test.shape[0], img_rows, img_cols, 3) \n",
    "    input_shape = (img_rows, img_cols, 3)\n",
    "    \n",
    "# Converting the input from bytes to floats\n",
    "X_train = X_train.astype('float32') \n",
    "X_test = X_test.astype('float32') \n",
    "\n",
    "# Normalising the input\n",
    "X_train /= np.max(X_train)\n",
    "X_test /= np.max(X_test)\n",
    "\n",
    "print('X_train shape:', X_train.shape)\n",
    "print(X_train.shape[0], 'train samples')\n",
    "print(len(Y_train), 'train labels')\n",
    "print(X_test.shape[0], 'test samples')\n",
    "print(len(Y_test), 'test labels')\n",
    "\n",
    "# convert class vectors to binary class matrices\n",
    "#Y_train = np_utils.to_categorical(y_train, nb_classes) #breaks stuff\n",
    "#Y_test = np_utils.to_categorical(y_test, nb_classes) #breaks stuff"
   ]
  },
  {
   "cell_type": "code",
   "execution_count": 10,
   "metadata": {},
   "outputs": [],
   "source": [
    "# Data Generation\n",
    "datagen = ImageDataGenerator(\n",
    "              featurewise_center=False,\n",
    "              featurewise_std_normalization=False,\n",
    "              rotation_range=10,\n",
    "              width_shift_range=0.1,\n",
    "              height_shift_range=0.1,\n",
    "              shear_range=0.3,\n",
    "              horizontal_flip=False) \n",
    "\n",
    "datagen.fit(X_train)"
   ]
  },
  {
   "cell_type": "code",
   "execution_count": 12,
   "metadata": {},
   "outputs": [],
   "source": [
    "# Defining the network\n",
    "\n",
    "model = Sequential()\n",
    "\n",
    "model.add(Conv2D(conv_depth_1, (kernel_size[0], kernel_size[1]),\n",
    "                 padding='same', input_shape=input_shape))\n",
    "model.add(PReLU())\n",
    "model.add(Conv2D(conv_depth_1, (kernel_size[0], kernel_size[1])))\n",
    "model.add(PReLU())\n",
    "model.add(MaxPooling2D(pool_size=pool_size))\n",
    "model.add(Dropout(dropout_conv))\n",
    "\n",
    "model.add(Conv2D(conv_depth_2, (kernel_size[0], kernel_size[1]), \n",
    "                 padding='same', kernel_initializer='glorot_uniform'))\n",
    "model.add(PReLU())\n",
    "model.add(Conv2D(conv_depth_2, (kernel_size[0], kernel_size[1]), \n",
    "                 kernel_initializer='glorot_uniform'))\n",
    "model.add(PReLU())\n",
    "model.add(MaxPooling2D(pool_size=pool_size))\n",
    "model.add(Dropout(dropout_conv))\n",
    "\n",
    "model.add(Conv2D(conv_depth_3, (kernel_size[0], kernel_size[1]), \n",
    "                 padding='same', kernel_initializer='glorot_uniform'))\n",
    "model.add(PReLU())\n",
    "model.add(Conv2D(conv_depth_3, (kernel_size[0], kernel_size[1]), \n",
    "                 kernel_initializer='glorot_uniform'))\n",
    "model.add(PReLU())\n",
    "model.add(MaxPooling2D(pool_size=pool_size))\n",
    "model.add(Dropout(dropout_conv))\n",
    "\n",
    "model.add(Flatten())\n",
    "model.add(Dense(hidden_size, kernel_initializer='glorot_uniform'))\n",
    "model.add(PReLU())\n",
    "model.add(Dropout(dropout_hidden))\n",
    "model.add(Dense(nb_classes))\n",
    "model.add(Activation('softmax'))"
   ]
  },
  {
   "cell_type": "code",
   "execution_count": 13,
   "metadata": {
    "collapsed": true
   },
   "outputs": [],
   "source": [
    "model.compile(loss='categorical_crossentropy', \n",
    "              optimizer=SGD(lr=0.01, momentum=0.9, nesterov=True),\n",
    "              metrics=['accuracy'])"
   ]
  },
  {
   "cell_type": "code",
   "execution_count": 14,
   "metadata": {},
   "outputs": [
    {
     "name": "stdout",
     "output_type": "stream",
     "text": [
      "Epoch 1/50\n",
      "1226/1225 [==============================] - 25s - loss: 2.1294 - acc: 0.3680 - val_loss: 0.5331 - val_acc: 0.8264\n",
      "Epoch 2/50\n",
      "1226/1225 [==============================] - 23s - loss: 0.5388 - acc: 0.8271 - val_loss: 0.2254 - val_acc: 0.9390\n",
      "Epoch 3/50\n",
      "1226/1225 [==============================] - 23s - loss: 0.2709 - acc: 0.9159 - val_loss: 0.1754 - val_acc: 0.9599\n",
      "Epoch 4/50\n",
      "1226/1225 [==============================] - 23s - loss: 0.1854 - acc: 0.9434 - val_loss: 0.1420 - val_acc: 0.9647\n",
      "Epoch 5/50\n",
      "1226/1225 [==============================] - 23s - loss: 0.1456 - acc: 0.9562 - val_loss: 0.1380 - val_acc: 0.9684\n",
      "Epoch 6/50\n",
      "1226/1225 [==============================] - 23s - loss: 0.1271 - acc: 0.9619 - val_loss: 0.1064 - val_acc: 0.9748\n",
      "Epoch 7/50\n",
      "1226/1225 [==============================] - 24s - loss: 0.1048 - acc: 0.9683 - val_loss: 0.1380 - val_acc: 0.9708\n",
      "Epoch 8/50\n",
      "1226/1225 [==============================] - 23s - loss: 0.1052 - acc: 0.9691 - val_loss: 0.0992 - val_acc: 0.9752\n",
      "Epoch 9/50\n",
      "1226/1225 [==============================] - 23s - loss: 0.0932 - acc: 0.9725 - val_loss: 0.0959 - val_acc: 0.9774\n",
      "Epoch 10/50\n",
      "1226/1225 [==============================] - 23s - loss: 0.0993 - acc: 0.9715 - val_loss: 0.1378 - val_acc: 0.9723\n",
      "Epoch 11/50\n",
      "1226/1225 [==============================] - 23s - loss: 0.0815 - acc: 0.9774 - val_loss: 0.0837 - val_acc: 0.9781\n",
      "Epoch 12/50\n",
      "1226/1225 [==============================] - 23s - loss: 0.0869 - acc: 0.9759 - val_loss: 0.0960 - val_acc: 0.9773\n",
      "Epoch 13/50\n",
      "1226/1225 [==============================] - 23s - loss: 0.0777 - acc: 0.9777 - val_loss: 0.0917 - val_acc: 0.9801\n",
      "Epoch 14/50\n",
      "1226/1225 [==============================] - 23s - loss: 0.0705 - acc: 0.9800 - val_loss: 0.0852 - val_acc: 0.9808\n",
      "Epoch 15/50\n",
      "1226/1225 [==============================] - 23s - loss: 0.0719 - acc: 0.9788 - val_loss: 0.0895 - val_acc: 0.9809\n",
      "Epoch 16/50\n",
      "1226/1225 [==============================] - 23s - loss: 0.0643 - acc: 0.9821 - val_loss: 0.1226 - val_acc: 0.9780\n",
      "Epoch 17/50\n",
      "1226/1225 [==============================] - 22s - loss: 0.0637 - acc: 0.9815 - val_loss: 0.1003 - val_acc: 0.9794\n",
      "Epoch 18/50\n",
      "1226/1225 [==============================] - 22s - loss: 0.0350 - acc: 0.9901 - val_loss: 0.0683 - val_acc: 0.9849\n",
      "Epoch 19/50\n",
      "1226/1225 [==============================] - 23s - loss: 0.0270 - acc: 0.9920 - val_loss: 0.0799 - val_acc: 0.9836\n",
      "Epoch 20/50\n",
      "1226/1225 [==============================] - 23s - loss: 0.0234 - acc: 0.9929 - val_loss: 0.0769 - val_acc: 0.9847\n",
      "Epoch 21/50\n",
      "1226/1225 [==============================] - 23s - loss: 0.0210 - acc: 0.9939 - val_loss: 0.0719 - val_acc: 0.9852\n",
      "Epoch 22/50\n",
      "1226/1225 [==============================] - 23s - loss: 0.0190 - acc: 0.9947 - val_loss: 0.0775 - val_acc: 0.9853\n",
      "Epoch 23/50\n",
      "1226/1225 [==============================] - 22s - loss: 0.0190 - acc: 0.9946 - val_loss: 0.0902 - val_acc: 0.9846\n",
      "Epoch 24/50\n",
      "1226/1225 [==============================] - 23s - loss: 0.0172 - acc: 0.9950 - val_loss: 0.0863 - val_acc: 0.9851\n",
      "Epoch 25/50\n",
      "1226/1225 [==============================] - 23s - loss: 0.0163 - acc: 0.9954 - val_loss: 0.0847 - val_acc: 0.9846\n",
      "Epoch 26/50\n",
      "1226/1225 [==============================] - 23s - loss: 0.0141 - acc: 0.9953 - val_loss: 0.0852 - val_acc: 0.9854\n",
      "Epoch 27/50\n",
      "1226/1225 [==============================] - 23s - loss: 0.0124 - acc: 0.9957 - val_loss: 0.0773 - val_acc: 0.9856\n",
      "Epoch 28/50\n",
      "1226/1225 [==============================] - 23s - loss: 0.0129 - acc: 0.9964 - val_loss: 0.0803 - val_acc: 0.9857\n",
      "Epoch 29/50\n",
      "1226/1225 [==============================] - 23s - loss: 0.0142 - acc: 0.9958 - val_loss: 0.0802 - val_acc: 0.9858\n",
      "Epoch 30/50\n",
      "1226/1225 [==============================] - 23s - loss: 0.0147 - acc: 0.9954 - val_loss: 0.0820 - val_acc: 0.9854\n",
      "Epoch 31/50\n",
      "1226/1225 [==============================] - 23s - loss: 0.0122 - acc: 0.9964 - val_loss: 0.0828 - val_acc: 0.9854\n",
      "Epoch 32/50\n",
      "1226/1225 [==============================] - 23s - loss: 0.0122 - acc: 0.9963 - val_loss: 0.0843 - val_acc: 0.9851\n",
      "Epoch 33/50\n",
      "1226/1225 [==============================] - 23s - loss: 0.0131 - acc: 0.9959 - val_loss: 0.0866 - val_acc: 0.9858\n",
      "Epoch 34/50\n",
      "1226/1225 [==============================] - 23s - loss: 0.0119 - acc: 0.9964 - val_loss: 0.0763 - val_acc: 0.9860\n",
      "Epoch 35/50\n",
      "1226/1225 [==============================] - 23s - loss: 0.0112 - acc: 0.9968 - val_loss: 0.0772 - val_acc: 0.9859\n",
      "Epoch 36/50\n",
      "1226/1225 [==============================] - 23s - loss: 0.0114 - acc: 0.9965 - val_loss: 0.0772 - val_acc: 0.9856\n",
      "Epoch 37/50\n",
      "1226/1225 [==============================] - 23s - loss: 0.0126 - acc: 0.9963 - val_loss: 0.0815 - val_acc: 0.9864\n",
      "Epoch 38/50\n",
      "1226/1225 [==============================] - 23s - loss: 0.0106 - acc: 0.9968 - val_loss: 0.0794 - val_acc: 0.9855\n",
      "Epoch 39/50\n",
      "1226/1225 [==============================] - 23s - loss: 0.0115 - acc: 0.9966 - val_loss: 0.0819 - val_acc: 0.9861\n",
      "Epoch 40/50\n",
      "1226/1225 [==============================] - 23s - loss: 0.0113 - acc: 0.9968 - val_loss: 0.0798 - val_acc: 0.9856\n",
      "Epoch 41/50\n",
      "1226/1225 [==============================] - 23s - loss: 0.0111 - acc: 0.9964 - val_loss: 0.0772 - val_acc: 0.9854\n",
      "Epoch 42/50\n",
      "1226/1225 [==============================] - 23s - loss: 0.0129 - acc: 0.9964 - val_loss: 0.0742 - val_acc: 0.9867\n",
      "Epoch 43/50\n",
      "1226/1225 [==============================] - 23s - loss: 0.0116 - acc: 0.9965 - val_loss: 0.0797 - val_acc: 0.9863\n",
      "Epoch 44/50\n",
      "1226/1225 [==============================] - 23s - loss: 0.0100 - acc: 0.9970 - val_loss: 0.0829 - val_acc: 0.9855\n",
      "Epoch 45/50\n",
      "1226/1225 [==============================] - 23s - loss: 0.0125 - acc: 0.9962 - val_loss: 0.0757 - val_acc: 0.9861\n",
      "Epoch 46/50\n",
      "1226/1225 [==============================] - 23s - loss: 0.0108 - acc: 0.9969 - val_loss: 0.0820 - val_acc: 0.9857\n",
      "Epoch 47/50\n",
      "1226/1225 [==============================] - 23s - loss: 0.0098 - acc: 0.9970 - val_loss: 0.0821 - val_acc: 0.9858\n",
      "Epoch 48/50\n",
      "1226/1225 [==============================] - 23s - loss: 0.0101 - acc: 0.9969 - val_loss: 0.0794 - val_acc: 0.9860\n",
      "Epoch 49/50\n",
      "1226/1225 [==============================] - 23s - loss: 0.0106 - acc: 0.9969 - val_loss: 0.0822 - val_acc: 0.9861\n",
      "Epoch 50/50\n",
      "1226/1225 [==============================] - 23s - loss: 0.0109 - acc: 0.9967 - val_loss: 0.0836 - val_acc: 0.9851\n"
     ]
    }
   ],
   "source": [
    "#history = model.fit(X_train, Y_train, batch_size=batch_size, epochs=nb_epoch, \n",
    "#          verbose=1, validation_data=(X_test, Y_test))\n",
    "\n",
    "reduce_lr = ReduceLROnPlateau(monitor='val_loss', factor=0.2,\n",
    "                              patience=5, min_lr=0.001)\n",
    "\n",
    "history = model.fit_generator(datagen.flow(X_train, Y_train, batch_size=batch_size),\n",
    "                              steps_per_epoch=len(X_train)/batch_size,\n",
    "                              epochs=nb_epoch,\n",
    "                              validation_data=(X_test, Y_test),\n",
    "                              callbacks=[reduce_lr, ModelCheckpoint('model.h5',save_best_only=True)])"
   ]
  },
  {
   "cell_type": "code",
   "execution_count": 15,
   "metadata": {},
   "outputs": [
    {
     "name": "stdout",
     "output_type": "stream",
     "text": [
      "Test score: 0.0835945035671\n",
      "Test accuracy: 0.985114806065\n"
     ]
    }
   ],
   "source": [
    "score = model.evaluate(X_test, Y_test, verbose=0) \n",
    "print('Test score:', score[0])\n",
    "print('Test accuracy:', score[1])"
   ]
  },
  {
   "cell_type": "code",
   "execution_count": 16,
   "metadata": {},
   "outputs": [
    {
     "name": "stdout",
     "output_type": "stream",
     "text": [
      "dict_keys(['val_acc', 'lr', 'loss', 'val_loss', 'acc'])\n"
     ]
    },
    {
     "data": {
      "image/png": "[encoded data removed]",
      "text/plain": [
       "<matplotlib.figure.Figure at 0x1ad9b285710>"
      ]
     },
     "metadata": {},
     "output_type": "display_data"
    },
    {
     "data": {
      "image/png": "[encoded data removed]",
      "text/plain": [
       "<matplotlib.figure.Figure at 0x1ad89eb9400>"
      ]
     },
     "metadata": {},
     "output_type": "display_data"
    }
   ],
   "source": [
    "print(history.history.keys())\n",
    "\n",
    "# summarize history for accuracy\n",
    "plt.plot(history.history['acc'])\n",
    "plt.plot(history.history['val_acc'])\n",
    "plt.title('model accuracy')\n",
    "plt.ylabel('accuracy')\n",
    "plt.xlabel('epoch')\n",
    "plt.legend(['train', 'test'], loc='upper left')\n",
    "plt.show()\n",
    "\n",
    "# summarize history for loss\n",
    "plt.plot(history.history['loss'])\n",
    "plt.plot(history.history['val_loss'])\n",
    "plt.title('model loss')\n",
    "plt.ylabel('loss')\n",
    "plt.xlabel('epoch')\n",
    "plt.legend(['train', 'test'], loc='upper left')\n",
    "plt.show()"
   ]
  },
  {
   "cell_type": "code",
   "execution_count": 17,
   "metadata": {},
   "outputs": [
    {
     "data": {
      "text/plain": [
       "0.9866983407608404"
      ]
     },
     "execution_count": 17,
     "metadata": {},
     "output_type": "execute_result"
    }
   ],
   "source": [
    "max(history.history['val_acc'])"
   ]
  },
  {
   "cell_type": "code",
   "execution_count": 18,
   "metadata": {},
   "outputs": [
    {
     "data": {
      "text/plain": [
       "0.068295487053241302"
      ]
     },
     "execution_count": 18,
     "metadata": {},
     "output_type": "execute_result"
    }
   ],
   "source": [
    "min(history.history['val_loss'])"
   ]
  },
  {
   "cell_type": "code",
   "execution_count": null,
   "metadata": {
    "collapsed": true
   },
   "outputs": [],
   "source": []
  }
 ],
 "metadata": {
  "kernelspec": {
   "display_name": "Python 3",
   "language": "python",
   "name": "python3"
  },
  "language_info": {
   "codemirror_mode": {
    "name": "ipython",
    "version": 3
   },
   "file_extension": ".py",
   "mimetype": "text/x-python",
   "name": "python",
   "nbconvert_exporter": "python",
   "pygments_lexer": "ipython3",
   "version": "3.5.3"
  }
 },
 "nbformat": 4,
 "nbformat_minor": 2
}
